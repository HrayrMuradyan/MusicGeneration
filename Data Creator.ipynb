{
 "cells": [
  {
   "cell_type": "markdown",
   "id": "35170011",
   "metadata": {},
   "source": [
    "# Downloading Youtube Video"
   ]
  },
  {
   "cell_type": "code",
   "execution_count": null,
   "id": "b71fb0a7-7359-4ba9-9931-be028653c62d",
   "metadata": {},
   "outputs": [],
   "source": [
    "import warnings\n",
    "warnings.filterwarnings(\"ignore\")"
   ]
  },
  {
   "cell_type": "code",
   "execution_count": null,
   "id": "a39f012f",
   "metadata": {
    "scrolled": true
   },
   "outputs": [],
   "source": [
    "from audiocraft.data.create_data import download_split"
   ]
  },
  {
   "cell_type": "code",
   "execution_count": null,
   "id": "6b316f53-4b66-4893-94d4-507cae5fbbf0",
   "metadata": {},
   "outputs": [],
   "source": [
    "download_split(split='validation')"
   ]
  },
  {
   "cell_type": "markdown",
   "id": "b3504d70-3d86-4916-9809-ec101ce9b94d",
   "metadata": {},
   "source": [
    "# Data Splitter"
   ]
  },
  {
   "cell_type": "code",
   "execution_count": null,
   "id": "2df7f368-7efb-4f97-8267-c6e764a68572",
   "metadata": {},
   "outputs": [],
   "source": [
    "from audiocraft.data.create_data import divide_into_clips"
   ]
  },
  {
   "cell_type": "code",
   "execution_count": null,
   "id": "2d433c31-c172-4c42-8b4c-676708a41cf9",
   "metadata": {},
   "outputs": [],
   "source": [
    "divide_into_clips(split='validation', raw_music_path='../Dataset/raw_music/', clip_duration=30, stride=15)"
   ]
  },
  {
   "cell_type": "markdown",
   "id": "8d918e82-6fe8-44ed-88a5-9e2bda3f8ab9",
   "metadata": {},
   "source": [
    "# Data Preprocessor"
   ]
  },
  {
   "cell_type": "code",
   "execution_count": null,
   "id": "59c8ce48-2bfc-4084-a9ae-e3904e67e79c",
   "metadata": {},
   "outputs": [],
   "source": [
    "from audiocraft.data.create_data import prepare_attributes"
   ]
  },
  {
   "cell_type": "code",
   "execution_count": null,
   "id": "faa974e4-d26d-4192-b654-c9e953042ac2",
   "metadata": {},
   "outputs": [],
   "source": [
    "prepare_attributes(split='validation')"
   ]
  },
  {
   "cell_type": "markdown",
   "id": "987bbc13-4d7c-4698-b5fa-8ffe07e4f80f",
   "metadata": {},
   "source": [
    "# Music Labeler"
   ]
  },
  {
   "cell_type": "code",
   "execution_count": null,
   "id": "82ff64e0-edd4-49c2-a16d-ed0e001d8791",
   "metadata": {},
   "outputs": [],
   "source": [
    "from audiocraft.data.create_data import fill_json_split"
   ]
  },
  {
   "cell_type": "code",
   "execution_count": null,
   "id": "dfdb5eb8-ed23-4c25-960f-627c32f95551",
   "metadata": {
    "scrolled": true
   },
   "outputs": [],
   "source": [
    "fill_json_split(split='validation')"
   ]
  },
  {
   "cell_type": "markdown",
   "id": "3a37c9d4",
   "metadata": {},
   "source": [
    "# Description Generator"
   ]
  },
  {
   "cell_type": "code",
   "execution_count": null,
   "id": "32436b53-45d5-4628-8ab2-6d0e37dfa414",
   "metadata": {},
   "outputs": [],
   "source": [
    "from audiocraft.data.create_data import fill_descriptions"
   ]
  },
  {
   "cell_type": "code",
   "execution_count": null,
   "id": "4e12fb68-df83-4fab-ab82-92a998f8fae3",
   "metadata": {},
   "outputs": [],
   "source": [
    "fill_descriptions(split='validation')"
   ]
  },
  {
   "cell_type": "markdown",
   "id": "e941429e",
   "metadata": {},
   "source": [
    "# Data Preprocessor"
   ]
  },
  {
   "cell_type": "code",
   "execution_count": null,
   "id": "db377a9a",
   "metadata": {},
   "outputs": [],
   "source": [
    "from audiocraft.data.process_data import PreprocessData "
   ]
  },
  {
   "cell_type": "code",
   "execution_count": null,
   "id": "84cf7ad0",
   "metadata": {},
   "outputs": [],
   "source": [
    "from audiocraft.models.loaders import load_lm_model_ckpt\n",
    "from omegaconf import OmegaConf"
   ]
  },
  {
   "cell_type": "code",
   "execution_count": null,
   "id": "002ba106",
   "metadata": {},
   "outputs": [],
   "source": [
    "checkpoint = 'facebook/musicgen-small'\n",
    "lm_model_ckpt = load_lm_model_ckpt(checkpoint)\n",
    "cfg = OmegaConf.create(lm_model_ckpt['xp.cfg'])"
   ]
  },
  {
   "cell_type": "code",
   "execution_count": null,
   "id": "d99b5d99",
   "metadata": {},
   "outputs": [],
   "source": [
    "cfg.datasource.train = 'egs/train'\n",
    "cfg.datasource.valid = 'egs/train'\n",
    "cfg.datasource.evaluate = 'egs/train'\n",
    "cfg.datasource.generate = 'egs/train'"
   ]
  },
  {
   "cell_type": "code",
   "execution_count": null,
   "id": "f4547192",
   "metadata": {},
   "outputs": [],
   "source": [
    "preprocessor = PreprocessData(cfg, checkpoint)"
   ]
  },
  {
   "cell_type": "code",
   "execution_count": null,
   "id": "795dc995",
   "metadata": {},
   "outputs": [
    {
     "name": "stdout",
     "output_type": "stream",
     "text": [
      "\n",
      "The file Aram Khachaturyan - Gayane - 08 Act One Scene One Spring - Uzundara_8 was successfully saved.\n",
      "\n",
      "\n",
      "--------------------------------------------------\n",
      "\n",
      "Padding = 0 sec.\n",
      "Slicing: False\n",
      "\n",
      "The file Aram Khachaturyan - Gayane - 08 Act One Scene One Spring - Uzundara_9 was successfully saved.\n",
      "\n",
      "\n",
      "--------------------------------------------------\n",
      "\n",
      "Padding = 0 sec.\n",
      "Slicing: False\n",
      "\n",
      "The file Arno Babajanyan - Fantasy on -Call me_1 was successfully saved.\n",
      "\n",
      "\n",
      "--------------------------------------------------\n",
      "\n",
      "Padding = 0 sec.\n",
      "Slicing: False\n",
      "\n",
      "The file Arno Babajanyan - Fantasy on -Call me_10 was successfully saved.\n",
      "\n",
      "\n",
      "--------------------------------------------------\n",
      "\n",
      "Padding = 0 sec.\n",
      "Slicing: False\n",
      "\n",
      "The file Arno Babajanyan - Fantasy on -Call me_11 was successfully saved.\n",
      "\n",
      "\n",
      "--------------------------------------------------\n",
      "\n",
      "Padding = 0 sec.\n",
      "Slicing: False\n",
      "\n",
      "The file Arno Babajanyan - Fantasy on -Call me_12 was successfully saved.\n",
      "\n",
      "\n",
      "--------------------------------------------------\n",
      "\n",
      "Padding = 0 sec.\n",
      "Slicing: False\n",
      "\n",
      "The file Arno Babajanyan - Fantasy on -Call me_13 was successfully saved.\n",
      "\n",
      "\n",
      "--------------------------------------------------\n",
      "\n",
      "Padding = 0 sec.\n",
      "Slicing: False\n",
      "\n",
      "The file Arno Babajanyan - Fantasy on -Call me_14 was successfully saved.\n",
      "\n",
      "\n",
      "--------------------------------------------------\n",
      "\n",
      "Padding = 0 sec.\n",
      "Slicing: False\n",
      "\n",
      "The file Arno Babajanyan - Fantasy on -Call me_15 was successfully saved.\n",
      "\n",
      "\n",
      "--------------------------------------------------\n",
      "\n",
      "Padding = 13 sec.\n",
      "Slicing: False\n",
      "\n",
      "The file Arno Babajanyan - Fantasy on -Call me_16 was successfully saved.\n",
      "\n",
      "\n",
      "--------------------------------------------------\n",
      "\n",
      "Padding = 0 sec.\n",
      "Slicing: False\n",
      "\n",
      "The file Arno Babajanyan - Fantasy on -Call me_2 was successfully saved.\n",
      "\n",
      "\n",
      "--------------------------------------------------\n",
      "\n",
      "Padding = 0 sec.\n",
      "Slicing: False\n",
      "\n",
      "The file Arno Babajanyan - Fantasy on -Call me_3 was successfully saved.\n",
      "\n",
      "\n",
      "--------------------------------------------------\n",
      "\n",
      "Padding = 0 sec.\n",
      "Slicing: False\n",
      "\n",
      "The file Arno Babajanyan - Fantasy on -Call me_4 was successfully saved.\n",
      "\n",
      "\n",
      "--------------------------------------------------\n",
      "\n",
      "Padding = 0 sec.\n",
      "Slicing: False\n",
      "\n",
      "The file Arno Babajanyan - Fantasy on -Call me_5 was successfully saved.\n",
      "\n",
      "\n",
      "--------------------------------------------------\n",
      "\n",
      "Padding = 0 sec.\n",
      "Slicing: False\n",
      "\n",
      "The file Arno Babajanyan - Fantasy on -Call me_6 was successfully saved.\n",
      "\n",
      "\n",
      "--------------------------------------------------\n",
      "\n",
      "Padding = 0 sec.\n",
      "Slicing: False\n",
      "\n",
      "The file Arno Babajanyan - Fantasy on -Call me_7 was successfully saved.\n",
      "\n",
      "\n",
      "--------------------------------------------------\n",
      "\n",
      "Padding = 0 sec.\n",
      "Slicing: False\n",
      "\n",
      "The file Arno Babajanyan - Fantasy on -Call me_8 was successfully saved.\n",
      "\n",
      "\n",
      "--------------------------------------------------\n",
      "\n",
      "Padding = 0 sec.\n",
      "Slicing: False\n",
      "\n",
      "The file Arno Babajanyan - Fantasy on -Call me_9 was successfully saved.\n",
      "\n",
      "\n",
      "--------------------------------------------------\n",
      "\n",
      "Padding = 0 sec.\n",
      "Slicing: False\n",
      "\n",
      "The file Arno Babajanyan - Nocturne  Арно Бабаджанян - Ноктюрн_1 was successfully saved.\n",
      "\n",
      "\n",
      "--------------------------------------------------\n",
      "\n",
      "Padding = 0 sec.\n",
      "Slicing: False\n",
      "\n",
      "The file Arno Babajanyan - Nocturne  Арно Бабаджанян - Ноктюрн_10 was successfully saved.\n",
      "\n",
      "\n",
      "--------------------------------------------------\n",
      "\n",
      "Padding = 0 sec.\n",
      "Slicing: False\n",
      "\n",
      "The file Arno Babajanyan - Nocturne  Арно Бабаджанян - Ноктюрн_11 was successfully saved.\n",
      "\n",
      "\n",
      "--------------------------------------------------\n",
      "\n",
      "Padding = 0 sec.\n",
      "Slicing: False\n",
      "\n",
      "The file Arno Babajanyan - Nocturne  Арно Бабаджанян - Ноктюрн_12 was successfully saved.\n",
      "\n",
      "\n",
      "--------------------------------------------------\n",
      "\n",
      "Padding = 0 sec.\n",
      "Slicing: False\n",
      "\n",
      "The file Arno Babajanyan - Nocturne  Арно Бабаджанян - Ноктюрн_13 was successfully saved.\n",
      "\n",
      "\n",
      "--------------------------------------------------\n",
      "\n",
      "Padding = 0 sec.\n",
      "Slicing: False\n",
      "\n",
      "The file Arno Babajanyan - Nocturne  Арно Бабаджанян - Ноктюрн_14 was successfully saved.\n",
      "\n",
      "\n",
      "--------------------------------------------------\n",
      "\n",
      "Padding = 0 sec.\n",
      "Slicing: False\n",
      "\n",
      "The file Arno Babajanyan - Nocturne  Арно Бабаджанян - Ноктюрн_15 was successfully saved.\n",
      "\n",
      "\n",
      "--------------------------------------------------\n",
      "\n",
      "Padding = 0 sec.\n",
      "Slicing: False\n",
      "\n",
      "The file Arno Babajanyan - Nocturne  Арно Бабаджанян - Ноктюрн_16 was successfully saved.\n",
      "\n",
      "\n",
      "--------------------------------------------------\n",
      "\n",
      "Padding = 0 sec.\n",
      "Slicing: False\n",
      "\n",
      "The file Arno Babajanyan - Nocturne  Арно Бабаджанян - Ноктюрн_17 was successfully saved.\n",
      "\n",
      "\n",
      "--------------------------------------------------\n",
      "\n",
      "Padding = 0 sec.\n",
      "Slicing: False\n",
      "\n",
      "The file Arno Babajanyan - Nocturne  Арно Бабаджанян - Ноктюрн_18 was successfully saved.\n",
      "\n",
      "\n",
      "--------------------------------------------------\n",
      "\n",
      "Padding = 6 sec.\n",
      "Slicing: False\n",
      "\n",
      "The file Arno Babajanyan - Nocturne  Арно Бабаджанян - Ноктюрн_19 was successfully saved.\n",
      "\n",
      "\n",
      "--------------------------------------------------\n",
      "\n",
      "Padding = 0 sec.\n",
      "Slicing: False\n",
      "\n",
      "The file Arno Babajanyan - Nocturne  Арно Бабаджанян - Ноктюрн_2 was successfully saved.\n",
      "\n",
      "\n",
      "--------------------------------------------------\n",
      "\n",
      "Padding = 0 sec.\n",
      "Slicing: False\n",
      "\n",
      "The file Arno Babajanyan - Nocturne  Арно Бабаджанян - Ноктюрн_3 was successfully saved.\n",
      "\n",
      "\n",
      "--------------------------------------------------\n",
      "\n",
      "Padding = 0 sec.\n",
      "Slicing: False\n",
      "\n",
      "The file Arno Babajanyan - Nocturne  Арно Бабаджанян - Ноктюрн_4 was successfully saved.\n",
      "\n",
      "\n",
      "--------------------------------------------------\n",
      "\n",
      "Padding = 0 sec.\n",
      "Slicing: False\n",
      "\n",
      "The file Arno Babajanyan - Nocturne  Арно Бабаджанян - Ноктюрн_5 was successfully saved.\n",
      "\n",
      "\n",
      "--------------------------------------------------\n",
      "\n",
      "Padding = 0 sec.\n",
      "Slicing: False\n",
      "\n",
      "The file Arno Babajanyan - Nocturne  Арно Бабаджанян - Ноктюрн_6 was successfully saved.\n",
      "\n",
      "\n",
      "--------------------------------------------------\n",
      "\n",
      "Padding = 0 sec.\n",
      "Slicing: False\n",
      "\n",
      "The file Arno Babajanyan - Nocturne  Арно Бабаджанян - Ноктюрн_7 was successfully saved.\n",
      "\n",
      "\n",
      "--------------------------------------------------\n",
      "\n",
      "Padding = 0 sec.\n",
      "Slicing: False\n",
      "\n",
      "The file Arno Babajanyan - Nocturne  Арно Бабаджанян - Ноктюрн_8 was successfully saved.\n",
      "\n",
      "\n",
      "--------------------------------------------------\n",
      "\n",
      "Padding = 0 sec.\n",
      "Slicing: False\n",
      "\n",
      "The file Arno Babajanyan - Nocturne  Арно Бабаджанян - Ноктюрн_9 was successfully saved.\n",
      "\n",
      "\n",
      "--------------------------------------------------\n",
      "\n",
      "End of the processing\n",
      "\n",
      "====================================================================================================\n"
     ]
    }
   ],
   "source": [
    "preprocessor.run(time_shift=15.0, data_split='train', save_path='./dataset/')"
   ]
  },
  {
   "cell_type": "code",
   "execution_count": null,
   "id": "94d3db28-a285-4447-a437-1bb8b9de3565",
   "metadata": {},
   "outputs": [],
   "source": []
  }
 ],
 "metadata": {
  "kernelspec": {
   "display_name": "Linux_env",
   "language": "python",
   "name": "linux_env"
  },
  "language_info": {
   "codemirror_mode": {
    "name": "ipython",
    "version": 3
   },
   "file_extension": ".py",
   "mimetype": "text/x-python",
   "name": "python",
   "nbconvert_exporter": "python",
   "pygments_lexer": "ipython3",
   "version": "3.9.13"
  }
 },
 "nbformat": 4,
 "nbformat_minor": 5
}
