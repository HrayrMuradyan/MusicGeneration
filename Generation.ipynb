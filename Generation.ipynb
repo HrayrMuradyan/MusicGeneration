{
 "cells": [
  {
   "cell_type": "code",
   "execution_count": 1,
   "id": "e39e9db9",
   "metadata": {},
   "outputs": [
    {
     "name": "stderr",
     "output_type": "stream",
     "text": [
      "A matching Triton is not available, some optimizations will not be enabled.\n",
      "Error caught was: No module named 'triton'\n"
     ]
    }
   ],
   "source": [
    "import torch\n",
    "from omegaconf import OmegaConf\n",
    "\n",
    "from audiocraft.models.loaders import load_lm_model_ckpt, _delete_param, load_compression_model\n",
    "from audiocraft.models.musicgen import MusicGen"
   ]
  },
  {
   "cell_type": "code",
   "execution_count": 2,
   "id": "e20a897f",
   "metadata": {},
   "outputs": [],
   "source": [
    "checkpoint_def = 'facebook/musicgen-small'\n",
    "checkpoint_trained = 'C:/tmp/audiocraft_MusicGen/xps/d3d6f8af/checkpoint.th'"
   ]
  },
  {
   "cell_type": "code",
   "execution_count": 3,
   "id": "1a48d42b",
   "metadata": {},
   "outputs": [],
   "source": [
    "if torch.cuda.device_count():\n",
    "    device = 'cuda'\n",
    "else:\n",
    "    device = 'cpu'\n",
    "    \n",
    "cache_dir=None\n",
    "memory_saver=False"
   ]
  },
  {
   "cell_type": "code",
   "execution_count": 4,
   "id": "13656135",
   "metadata": {},
   "outputs": [],
   "source": [
    "lm_model_ckpt = load_lm_model_ckpt(checkpoint_trained, cache_dir=cache_dir)\n",
    "cfg = OmegaConf.create(lm_model_ckpt['xp.cfg'])"
   ]
  },
  {
   "cell_type": "code",
   "execution_count": 5,
   "id": "372b5fb7",
   "metadata": {},
   "outputs": [],
   "source": [
    "lm_model_ckpt_def = load_lm_model_ckpt(checkpoint_def, cache_dir=cache_dir)\n",
    "cfg_def = OmegaConf.create(lm_model_ckpt_def['xp.cfg'])"
   ]
  },
  {
   "cell_type": "markdown",
   "id": "68371809",
   "metadata": {},
   "source": [
    "## Load LM Model"
   ]
  },
  {
   "cell_type": "code",
   "execution_count": 6,
   "id": "a965b190",
   "metadata": {},
   "outputs": [],
   "source": [
    "if cfg.device == 'cpu':\n",
    "    cfg.dtype = 'float32'\n",
    "else:\n",
    "    cfg.dtype = 'float16'\n",
    "OmegaConf.update(cfg_def, \"memory_saver.enable\", memory_saver)\n",
    "_delete_param(cfg_def, 'conditioners.self_wav.chroma_stem.cache_path')\n",
    "_delete_param(cfg_def, 'conditioners.args.merge_text_conditions_p')\n",
    "_delete_param(cfg_def, 'conditioners.args.drop_desc_p')"
   ]
  },
  {
   "cell_type": "code",
   "execution_count": 7,
   "id": "b62d8925",
   "metadata": {},
   "outputs": [],
   "source": [
    "from audiocraft.models.builders import get_lm_model"
   ]
  },
  {
   "cell_type": "code",
   "execution_count": 8,
   "id": "8f3701f0",
   "metadata": {},
   "outputs": [],
   "source": [
    "lm_model = get_lm_model(cfg_def)"
   ]
  },
  {
   "cell_type": "code",
   "execution_count": 9,
   "id": "bb8b54ac",
   "metadata": {},
   "outputs": [],
   "source": [
    "condition_weight = 'condition_provider.conditioners.description.output_proj.weight'\n",
    "condition_bias = 'condition_provider.conditioners.description.output_proj.bias'"
   ]
  },
  {
   "cell_type": "code",
   "execution_count": 10,
   "id": "a700c429",
   "metadata": {},
   "outputs": [],
   "source": [
    "lm_model_ckpt['best_state']['model'][condition_weight] = lm_model_ckpt_def['best_state'][condition_weight]\n",
    "lm_model_ckpt['best_state']['model'][condition_bias] = lm_model_ckpt_def['best_state'][condition_bias]"
   ]
  },
  {
   "cell_type": "code",
   "execution_count": 11,
   "id": "44e59b59",
   "metadata": {},
   "outputs": [],
   "source": [
    "lm_model.load_state_dict(lm_model_ckpt['best_state']['model'])\n",
    "lm_model.eval()\n",
    "lm_model.cfg = cfg"
   ]
  },
  {
   "cell_type": "markdown",
   "id": "d1c694e8",
   "metadata": {},
   "source": [
    "## Compression Model"
   ]
  },
  {
   "cell_type": "code",
   "execution_count": 12,
   "id": "3c272ff5",
   "metadata": {},
   "outputs": [
    {
     "name": "stderr",
     "output_type": "stream",
     "text": [
      "C:\\Users\\hrayr\\anaconda3\\envs\\MusicGen\\lib\\site-packages\\torch\\nn\\utils\\weight_norm.py:30: UserWarning: torch.nn.utils.weight_norm is deprecated in favor of torch.nn.utils.parametrizations.weight_norm.\n",
      "  warnings.warn(\"torch.nn.utils.weight_norm is deprecated in favor of torch.nn.utils.parametrizations.weight_norm.\")\n"
     ]
    }
   ],
   "source": [
    "compression_model = load_compression_model(checkpoint_def, device=device)"
   ]
  },
  {
   "cell_type": "code",
   "execution_count": 13,
   "id": "e7063916",
   "metadata": {},
   "outputs": [],
   "source": [
    "if 'self_wav' in lm_model.condition_provider.conditioners:\n",
    "    lm_model.condition_provider.conditioners['self_wav'].match_len_on_eval = True\n",
    "    lm_model.condition_provider.conditioners['self_wav']._use_masking = False"
   ]
  },
  {
   "cell_type": "markdown",
   "id": "1ec2d545",
   "metadata": {},
   "source": [
    "## MusicGen"
   ]
  },
  {
   "cell_type": "code",
   "execution_count": 14,
   "id": "4e282234",
   "metadata": {},
   "outputs": [],
   "source": [
    "musicgen = MusicGen(checkpoint_def, compression_model, lm_model)"
   ]
  },
  {
   "cell_type": "code",
   "execution_count": 15,
   "id": "88615bec",
   "metadata": {},
   "outputs": [],
   "source": [
    "musicgen.set_generation_params(duration=30)"
   ]
  },
  {
   "cell_type": "markdown",
   "id": "6cfaba3d",
   "metadata": {},
   "source": [
    "## Generation"
   ]
  },
  {
   "cell_type": "code",
   "execution_count": null,
   "id": "629d2234",
   "metadata": {},
   "outputs": [],
   "source": [
    "music = musicgen.generate(['A music that has been deeply rooted in the heart and soul of the people of Armenia, featuring traditional instruments like duduk and showcasing various moods such as dramatic, relaxing, and melancholic, creating an emotional connection with its listeners.'])"
   ]
  },
  {
   "cell_type": "code",
   "execution_count": null,
   "id": "bd8cb337",
   "metadata": {},
   "outputs": [],
   "source": [
    "from IPython.display import Audio\n",
    "Audio(music[0][0].detach().cpu(), rate=32000)"
   ]
  },
  {
   "cell_type": "markdown",
   "id": "e46a012c",
   "metadata": {},
   "source": [
    "### From attributes.pt"
   ]
  },
  {
   "cell_type": "code",
   "execution_count": null,
   "id": "152bff3c",
   "metadata": {},
   "outputs": [],
   "source": [
    "attributes = torch.load('../Test/attributes.pt')\n",
    "condition_tensors = attributes['condition_tensors']"
   ]
  },
  {
   "cell_type": "code",
   "execution_count": null,
   "id": "318a8fd0",
   "metadata": {},
   "outputs": [],
   "source": [
    "for k, v in condition_tensors.items():\n",
    "    if isinstance(v, torch.Tensor):\n",
    "        condition_tensors[k] = condition_tensors[k].to('cuda')\n",
    "    elif isinstance(v, list) or isinstance(v, tuple):\n",
    "        condition_tensors[k] = tuple(\n",
    "            [condition_tensors[k][i].to('cuda') for i in range(len(condition_tensors[k]))])\n",
    "        \n",
    "generation_params = {\n",
    "            'use_sampling': cfg.generate.lm.use_sampling,\n",
    "            'temp': cfg.generate.lm.temp,\n",
    "            'top_k': cfg.generate.lm.top_k,\n",
    "            'top_p': cfg.generate.lm.top_p,\n",
    "        }\n",
    "\n",
    "condition_tensors['description'] = (condition_tensors['description'][0].unsqueeze(0), condition_tensors['description'][1])"
   ]
  },
  {
   "cell_type": "code",
   "execution_count": null,
   "id": "3146c265",
   "metadata": {},
   "outputs": [],
   "source": [
    "compression_frame_rate = 50"
   ]
  },
  {
   "cell_type": "code",
   "execution_count": null,
   "id": "17160262",
   "metadata": {},
   "outputs": [],
   "source": [
    "total_gen_len = musicgen.duration * compression_frame_rate\n",
    "gen_tokens = musicgen.lm.generate(\n",
    "    None, None, condition_tensors, max_gen_len=total_gen_len,\n",
    "    num_samples=1, **generation_params)"
   ]
  },
  {
   "cell_type": "code",
   "execution_count": null,
   "id": "750f3fd0",
   "metadata": {},
   "outputs": [],
   "source": [
    "gen_audio = musicgen.compression_model.decode(gen_tokens, None)\n",
    "from IPython.display import Audio\n",
    "Audio(gen_audio[0][0].detach().cpu(), rate=32000)"
   ]
  },
  {
   "cell_type": "code",
   "execution_count": null,
   "id": "6099b32d",
   "metadata": {},
   "outputs": [],
   "source": []
  }
 ],
 "metadata": {
  "kernelspec": {
   "display_name": "MusicGen",
   "language": "python",
   "name": "musicgen"
  },
  "language_info": {
   "codemirror_mode": {
    "name": "ipython",
    "version": 3
   },
   "file_extension": ".py",
   "mimetype": "text/x-python",
   "name": "python",
   "nbconvert_exporter": "python",
   "pygments_lexer": "ipython3",
   "version": "3.9.0"
  }
 },
 "nbformat": 4,
 "nbformat_minor": 5
}
