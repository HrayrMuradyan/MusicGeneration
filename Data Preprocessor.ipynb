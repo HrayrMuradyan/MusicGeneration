{
 "cells": [
  {
   "cell_type": "code",
   "execution_count": 1,
   "id": "4f5f040e",
   "metadata": {},
   "outputs": [
    {
     "name": "stderr",
     "output_type": "stream",
     "text": [
      "WARNING[XFORMERS]: xFormers can't load C++/CUDA extensions. xFormers was built for:\n",
      "    PyTorch 2.1.0+cu121 with CUDA 1201 (you have 2.1.0+cu118)\n",
      "    Python  3.9.13 (you have 3.9.0)\n",
      "  Please reinstall xformers (see https://github.com/facebookresearch/xformers#installing-xformers)\n",
      "  Memory-efficient attention, SwiGLU, sparse and more won't be available.\n",
      "  Set XFORMERS_MORE_DETAILS=1 for more details\n",
      "A matching Triton is not available, some optimizations will not be enabled.\n",
      "Error caught was: No module named 'triton'\n"
     ]
    }
   ],
   "source": [
    "from audiocraft.data.process_data import PreprocessData "
   ]
  },
  {
   "cell_type": "code",
   "execution_count": 2,
   "id": "37cb88d6",
   "metadata": {},
   "outputs": [],
   "source": [
    "import librosa"
   ]
  },
  {
   "cell_type": "code",
   "execution_count": 3,
   "id": "4d6fa0ec",
   "metadata": {},
   "outputs": [],
   "source": [
    "from audiocraft.models.loaders import load_lm_model_ckpt\n",
    "from omegaconf import OmegaConf, DictConfig\n",
    "import torch\n",
    "import typing as tp"
   ]
  },
  {
   "cell_type": "code",
   "execution_count": 4,
   "id": "7c97d479",
   "metadata": {},
   "outputs": [],
   "source": [
    "lm_model_ckpt = load_lm_model_ckpt('facebook/musicgen-small')\n",
    "\n",
    "cfg = OmegaConf.create(lm_model_ckpt['xp.cfg'])"
   ]
  },
  {
   "cell_type": "code",
   "execution_count": 5,
   "id": "3781f108",
   "metadata": {},
   "outputs": [],
   "source": [
    "cfg.datasource.train = 'egs/example'\n",
    "cfg.datasource.valid = 'egs/example'\n",
    "cfg.datasource.evaluate = 'egs/example'\n",
    "cfg.datasource.generate = 'egs/example'"
   ]
  },
  {
   "cell_type": "code",
   "execution_count": 6,
   "id": "b7d14f52",
   "metadata": {},
   "outputs": [
    {
     "name": "stderr",
     "output_type": "stream",
     "text": [
      "C:\\Users\\hrayr\\anaconda3\\envs\\MusicGen\\lib\\site-packages\\torch\\nn\\utils\\weight_norm.py:30: UserWarning: torch.nn.utils.weight_norm is deprecated in favor of torch.nn.utils.parametrizations.weight_norm.\n",
      "  warnings.warn(\"torch.nn.utils.weight_norm is deprecated in favor of torch.nn.utils.parametrizations.weight_norm.\")\n"
     ]
    }
   ],
   "source": [
    "preprocessor = PreprocessData(cfg)"
   ]
  },
  {
   "cell_type": "code",
   "execution_count": 7,
   "id": "d312e69a",
   "metadata": {},
   "outputs": [
    {
     "name": "stdout",
     "output_type": "stream",
     "text": [
      "====================================================================================================\n",
      "Starting preprocessing of the data split -> train\n",
      "With in total of 3 music files\n",
      "====================================================================================================\n",
      "\n",
      "Padding = 15 sec.\n",
      "Slicing: False\n",
      "\n",
      "The file electro_1 was successfully saved.\n",
      "\n",
      "\n",
      "--------------------------------------------------\n",
      "\n",
      "Padding = 10 sec.\n",
      "Slicing: False\n",
      "\n",
      "The file electro_2 was successfully saved.\n",
      "\n",
      "\n",
      "--------------------------------------------------\n",
      "\n",
      "Padding = 0 sec.\n",
      "Slicing: True\n",
      "\n",
      "In total of 10 music clips where extracted and successfully saved from the file electro_3.\n",
      "\n",
      "\n",
      "--------------------------------------------------\n",
      "\n",
      "End of the processing\n",
      "\n",
      "====================================================================================================\n"
     ]
    }
   ],
   "source": [
    "wavs = preprocessor.run(data_split='train', save_path='./dataset/tensors/')"
   ]
  },
  {
   "cell_type": "code",
   "execution_count": null,
   "id": "fd18e183",
   "metadata": {},
   "outputs": [],
   "source": []
  },
  {
   "cell_type": "code",
   "execution_count": null,
   "id": "2238f33d",
   "metadata": {},
   "outputs": [],
   "source": []
  },
  {
   "cell_type": "code",
   "execution_count": null,
   "id": "f25e720c",
   "metadata": {},
   "outputs": [],
   "source": []
  }
 ],
 "metadata": {
  "kernelspec": {
   "display_name": "MusicGen",
   "language": "python",
   "name": "musicgen"
  },
  "language_info": {
   "codemirror_mode": {
    "name": "ipython",
    "version": 3
   },
   "file_extension": ".py",
   "mimetype": "text/x-python",
   "name": "python",
   "nbconvert_exporter": "python",
   "pygments_lexer": "ipython3",
   "version": "3.9.0"
  }
 },
 "nbformat": 4,
 "nbformat_minor": 5
}
