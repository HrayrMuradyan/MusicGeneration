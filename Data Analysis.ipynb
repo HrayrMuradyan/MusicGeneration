{
 "cells": [
  {
   "cell_type": "markdown",
   "id": "4ac88faf-753b-4416-bfad-116caa212953",
   "metadata": {},
   "source": [
    "# Data Analysis"
   ]
  },
  {
   "cell_type": "code",
   "execution_count": null,
   "id": "dbc1cf53-e461-4aed-9059-eaedac24994a",
   "metadata": {},
   "outputs": [],
   "source": [
    "from pathlib import Path\n",
    "from pytube import YouTube\n",
    "import json"
   ]
  },
  {
   "cell_type": "code",
   "execution_count": null,
   "id": "befcf18b-cc25-4c7f-ac10-b32d31264151",
   "metadata": {},
   "outputs": [],
   "source": [
    "class color:\n",
    "   BOLD = '\\033[1m'\n",
    "   END = '\\033[0m'"
   ]
  },
  {
   "cell_type": "markdown",
   "id": "203f727b-4341-4c2c-8c04-de8e78c38724",
   "metadata": {},
   "source": [
    "### Raw data total duration"
   ]
  },
  {
   "cell_type": "code",
   "execution_count": null,
   "id": "12c13c2c-e586-4a28-8078-a96fef4f4dd3",
   "metadata": {},
   "outputs": [],
   "source": [
    "def read_jsonl(link_file):\n",
    "    \"\"\"\n",
    "    Function reads a jsonl link file and converts it to a list of dictionaries\n",
    "    \"\"\"\n",
    "    link_info_dict_list = []\n",
    "    with open(link_file, \"r\") as opened_link_file:\n",
    "        # For each line in the link file\n",
    "        for line in opened_link_file:\n",
    "            \n",
    "            # Load each dictionary\n",
    "            link_info_dict = json.loads(line)\n",
    "            \n",
    "            # Add the dictionary to the list\n",
    "            link_info_dict_list.append(link_info_dict)\n",
    "    return link_info_dict_list"
   ]
  },
  {
   "cell_type": "code",
   "execution_count": null,
   "id": "305d0609-cc8b-4c55-b626-ba7206930899",
   "metadata": {},
   "outputs": [],
   "source": [
    "# Get jsonl full path\n",
    "data_split = 'train'\n",
    "jsonl_path_main = Path('../Dataset/youtube_music_links/')\n",
    "jsonl_full_path = jsonl_path_main / data_split / 'links.jsonl'"
   ]
  },
  {
   "cell_type": "code",
   "execution_count": null,
   "id": "02e54287-f855-4817-8961-07603e1af93c",
   "metadata": {},
   "outputs": [],
   "source": [
    "link_info_dict_list = read_jsonl(jsonl_full_path)"
   ]
  },
  {
   "cell_type": "code",
   "execution_count": null,
   "id": "1f424dad-acf4-402e-b6af-baee1e4d9b38",
   "metadata": {},
   "outputs": [],
   "source": [
    "def get_valid_raw_duration(link_line_dict):\n",
    "    \"\"\"\n",
    "    Given the link dictionary info, return the duration of the valid music piece (interval split applied)\n",
    "    Meaning that split: \"0-50\" of a 2 minute music will return 50 seconds, not 120 seconds.\n",
    "    \"\"\"\n",
    "    # Get url and split from the dictionary\n",
    "    url = link_line_dict['link']\n",
    "    split = link_line_dict['split']\n",
    "\n",
    "    # Get the youtube video length\n",
    "    yt = YouTube(url)\n",
    "    length = yt.length\n",
    "\n",
    "    # Prepare the split by replacing end with the length\n",
    "    split = split.replace('end', str(length))\n",
    "\n",
    "    duration = 0\n",
    "    #If there is a split\n",
    "    if split:\n",
    "        # Get splits\n",
    "        separated_splits = split.split(',')\n",
    "\n",
    "        # For split, get interval and add its duration\n",
    "        for s in separated_splits:\n",
    "            dur_start, dur_end = s.split('-')\n",
    "            duration += int(dur_end) - int(dur_start)\n",
    "\n",
    "    # If no split, then just add the length to the duration\n",
    "    else:\n",
    "        duration += length\n",
    "    \n",
    "    return duration"
   ]
  },
  {
   "cell_type": "code",
   "execution_count": null,
   "id": "acd78cf2-06e9-4240-b847-37b2269ed0c6",
   "metadata": {},
   "outputs": [],
   "source": [
    "def get_total_data_duration(link_info_dict_list):\n",
    "    \"\"\"\n",
    "    Iterate over the list of the link dictionaries and extract the total duration in hours.\n",
    "    \"\"\"\n",
    "    total_duration_sec = 0 \n",
    "    for index, link_info_dict in enumerate(link_info_dict_list):\n",
    "        if index%100==0:\n",
    "            print(f'The index {index} done!')\n",
    "        total_duration_sec += get_valid_raw_duration(link_info_dict)\n",
    "\n",
    "    return total_duration_sec/3600"
   ]
  },
  {
   "cell_type": "code",
   "execution_count": null,
   "id": "035fb8af-971d-4796-a3ea-2cb0dd0a6042",
   "metadata": {},
   "outputs": [],
   "source": [
    "raw_data_total_duration = get_total_data_duration(link_info_dict_list)"
   ]
  },
  {
   "cell_type": "code",
   "execution_count": null,
   "id": "c66b0592-a74c-401b-9a0b-c70335a4d593",
   "metadata": {},
   "outputs": [],
   "source": [
    "# Our data will have 62.8 hours\n",
    "print(f'The raw data is in total {color.BOLD}{raw_data_total_duration}{color.END} hour long')"
   ]
  },
  {
   "cell_type": "markdown",
   "id": "bd19b5f4-2cce-425d-887d-378e586e3e39",
   "metadata": {},
   "source": [
    "### Clipped data total duration with slide = 15 seconds"
   ]
  },
  {
   "cell_type": "code",
   "execution_count": null,
   "id": "0fbcac46-5869-44cd-aab0-76b9fd28f50b",
   "metadata": {},
   "outputs": [],
   "source": [
    "music_main_path = Path('../Dataset/raw_music/')"
   ]
  },
  {
   "cell_type": "code",
   "execution_count": null,
   "id": "be49d60b-e3d7-45d9-ba8d-05415eb0e243",
   "metadata": {},
   "outputs": [],
   "source": [
    "music_full_path = music_main_path / data_split"
   ]
  },
  {
   "cell_type": "code",
   "execution_count": null,
   "id": "d435e556-8046-4900-9d85-f4afcb7db924",
   "metadata": {},
   "outputs": [],
   "source": [
    "json_files_path = music_full_path.glob('*.json')\n",
    "wav_files_path = music_full_path.glob('*.wav')"
   ]
  },
  {
   "cell_type": "code",
   "execution_count": null,
   "id": "2eae61c5-1cf1-4be0-a63e-d175050542ef",
   "metadata": {},
   "outputs": [],
   "source": [
    "import wave\n",
    "\n",
    "def get_wav_length(filepath):\n",
    "    \"\"\"\n",
    "    Get wav length in hours\n",
    "    \"\"\"\n",
    "    with wave.open(filepath, 'rb') as wf:\n",
    "        num_frames = wf.getnframes()\n",
    "        frame_rate = wf.getframerate()\n",
    "        duration = num_frames / frame_rate\n",
    "    return duration / 3600"
   ]
  },
  {
   "cell_type": "code",
   "execution_count": null,
   "id": "e6c085e1-58c0-4292-84d6-254f11ac6384",
   "metadata": {},
   "outputs": [],
   "source": [
    "total_hour_duration = 0\n",
    "\n",
    "# For wav file in all wav files\n",
    "for wav in wav_files_path:\n",
    "    total_hour_duration += get_wav_length(str(wav))"
   ]
  },
  {
   "cell_type": "code",
   "execution_count": null,
   "id": "c0aa51cf-7e1b-45e7-8a81-9220c7e30037",
   "metadata": {},
   "outputs": [],
   "source": [
    "# Our data will have 120 hours\n",
    "print(f'Clipped data is in total {color.BOLD}{total_hour_duration}{color.END} hour long')"
   ]
  },
  {
   "cell_type": "markdown",
   "id": "62864ddf-1155-4f5f-bcd8-14ea7046c29f",
   "metadata": {},
   "source": [
    "### Calculate the frequencies of different instruments"
   ]
  },
  {
   "cell_type": "code",
   "execution_count": null,
   "id": "63f9c946-207c-49a0-b403-7a77efc9c19b",
   "metadata": {},
   "outputs": [],
   "source": [
    "from collections import defaultdict"
   ]
  },
  {
   "cell_type": "code",
   "execution_count": null,
   "id": "d931d78a-7069-46dd-9b0e-f6795853a148",
   "metadata": {},
   "outputs": [],
   "source": [
    "def get_variable_counts(json_files_path):\n",
    "    \"\"\"\n",
    "    Function for counting all unique instruments, genres and moods from the total data (json files)\n",
    "    \"\"\"\n",
    "    instrument_counter = defaultdict(int)\n",
    "    genre_counter = defaultdict(int)\n",
    "    moods_counter = defaultdict(int)\n",
    "    for i, json_path in enumerate(json_files_path):\n",
    "        if i%1000 == 0:\n",
    "            print(f'Checkpoint {i} passed!')\n",
    "        with open(json_path, \"r\") as json_file:\n",
    "            info_dict = json.load(json_file)\n",
    "\n",
    "        # Get instruments, genres and moods\n",
    "        instruments = info_dict['instrument'].lower().split(', ')\n",
    "        genres = info_dict['genre'].lower().split(', ')\n",
    "        moods = info_dict['moods']\n",
    "    \n",
    "        for instrument in instruments:\n",
    "            instrument_counter[instrument] += 1\n",
    "    \n",
    "        for genre in genres:\n",
    "            genre_counter[genre] += 1\n",
    "    \n",
    "        for mood in moods:\n",
    "            moods_counter[mood] += 1\n",
    "\n",
    "    return instrument_counter, genre_counter, moods_counter"
   ]
  },
  {
   "cell_type": "code",
   "execution_count": null,
   "id": "349f0d05-885d-4b03-8837-685879b10bcc",
   "metadata": {},
   "outputs": [],
   "source": [
    "instrument_counter, genre_counter, moods_counter = get_variable_counts(json_files_path)"
   ]
  },
  {
   "cell_type": "code",
   "execution_count": null,
   "id": "c2d2e3c0-90b3-489e-b41d-d34628537590",
   "metadata": {},
   "outputs": [],
   "source": [
    "import matplotlib.pyplot as plt"
   ]
  },
  {
   "cell_type": "code",
   "execution_count": null,
   "id": "79f87ca3-3ed2-47e6-9e52-b405c8213f0a",
   "metadata": {},
   "outputs": [],
   "source": [
    "genre_counter.pop('armenian traditional music')"
   ]
  },
  {
   "cell_type": "code",
   "execution_count": null,
   "id": "1578f2d7-0dc0-49c1-8aed-7bcda1d98eac",
   "metadata": {},
   "outputs": [],
   "source": [
    "counters = {'Instruments' : instrument_counter,\n",
    "            'Moods': moods_counter,\n",
    "            'Genres': genre_counter}"
   ]
  },
  {
   "cell_type": "code",
   "execution_count": null,
   "id": "8450941a-6dbf-4e1e-a382-a15067d82bac",
   "metadata": {},
   "outputs": [],
   "source": [
    "def plot_most_frequents(counters, colors=['skyblue', 'tomato', 'limegreen'], take_best_n=10):\n",
    "    \"\"\"\n",
    "    Function for plotting most frequent classes for each category in one plot.\n",
    "    \"\"\"\n",
    "    fig, axs = plt.subplots(3, 1, figsize=(10, 12), sharey=True)\n",
    "\n",
    "    # For each index, category and dictionary:\n",
    "    for index, (key, dictionary) in enumerate(counters.items()):\n",
    "\n",
    "        # Sort the count in the dictionary into list of tuples\n",
    "        sorted_dict_count = sorted(dictionary.items(), key=lambda x: x[1], reverse=True)\n",
    "\n",
    "        # Get the best N\n",
    "        best_n_count = sorted_dict_count[:take_best_n]\n",
    "\n",
    "        # Separate keys and values\n",
    "        keys = [item[0] for item in best_n_count]\n",
    "        values = [item[1] for item in best_n_count]\n",
    "\n",
    "        # Plot barplot\n",
    "        bars = axs[index].bar(keys, values, color=colors[index])\n",
    "\n",
    "        # For bar, get the height and write the corresponding value above it\n",
    "        for bar in bars:\n",
    "            yval = bar.get_height()\n",
    "            axs[index].text(bar.get_x() + bar.get_width() / 2, yval, round(yval, 2), va='bottom', ha='center', size=12)\n",
    "\n",
    "        # Plot the subplots\n",
    "        axs[index].grid(axis='y', linestyle='--')\n",
    "        axs[index].set_xlabel('')\n",
    "        axs[index].set_ylabel('Frequency', size=13)\n",
    "        axs[index].set_ylim(0, max(values)*1.2)\n",
    "        axs[index].set_title(f'Top 10 {key} appearing in the dataset (frequency)', size=15)\n",
    "        axs[index].tick_params(axis='x', rotation=45, labelsize=13)\n",
    "        \n",
    "    plt.tight_layout()\n",
    "    plt.show()\n",
    "        "
   ]
  },
  {
   "cell_type": "code",
   "execution_count": null,
   "id": "2b060a16-f349-4d7f-9846-d7fb82a2d6e2",
   "metadata": {},
   "outputs": [],
   "source": [
    "plot_most_frequents(counters)"
   ]
  },
  {
   "cell_type": "markdown",
   "id": "cb8ad36c-6f9d-45d0-99f6-aea043ddbfe9",
   "metadata": {},
   "source": [
    "# Evaluation Analysis"
   ]
  },
  {
   "cell_type": "code",
   "execution_count": 1,
   "id": "c403cb4a-d36a-4145-83c4-76f0648feaf8",
   "metadata": {},
   "outputs": [
    {
     "name": "stderr",
     "output_type": "stream",
     "text": [
      "C:\\Users\\hrayr\\AppData\\Local\\Temp\\ipykernel_8260\\1700717665.py:1: DeprecationWarning: \n",
      "Pyarrow will become a required dependency of pandas in the next major release of pandas (pandas 3.0),\n",
      "(to allow more performant data types, such as the Arrow string type, and better interoperability with other libraries)\n",
      "but was not found to be installed on your system.\n",
      "If this would cause problems for you,\n",
      "please provide us feedback at https://github.com/pandas-dev/pandas/issues/54466\n",
      "        \n",
      "  import pandas as pd\n"
     ]
    }
   ],
   "source": [
    "import pandas as pd\n",
    "import matplotlib.pyplot as plt\n",
    "import re"
   ]
  },
  {
   "cell_type": "code",
   "execution_count": 2,
   "id": "00a06aee-a950-41bf-bdb7-087ec0420ac2",
   "metadata": {},
   "outputs": [],
   "source": [
    "data = pd.read_csv('./additional_tools/Evaluation Data.csv')"
   ]
  },
  {
   "cell_type": "code",
   "execution_count": 3,
   "id": "a024a3ef-cedb-4ec0-94c6-5fb6f9e36456",
   "metadata": {},
   "outputs": [],
   "source": [
    "replacements = {\n",
    "    '5 - Very good': 5,\n",
    "    '4 - Good': 4,\n",
    "    '3 - Moderate': 3,\n",
    "    '2 - Poor': 2,\n",
    "    '1 - Very poor': 1,\n",
    "    '5 - Very well aligning': 5,\n",
    "    '4 - Well aligning': 4,\n",
    "    '3 - Moderately aligning': 3,\n",
    "    '2 - Poorly aligning': 2,\n",
    "    '1 - Very poorly aligning': 1\n",
    "}"
   ]
  },
  {
   "cell_type": "code",
   "execution_count": 4,
   "id": "c1c560e7-4766-47bb-9c3b-0e6ef44c369b",
   "metadata": {},
   "outputs": [
    {
     "name": "stderr",
     "output_type": "stream",
     "text": [
      "C:\\Users\\hrayr\\AppData\\Local\\Temp\\ipykernel_8260\\1912783966.py:1: FutureWarning: Downcasting behavior in `replace` is deprecated and will be removed in a future version. To retain the old behavior, explicitly call `result.infer_objects(copy=False)`. To opt-in to the future behavior, set `pd.set_option('future.no_silent_downcasting', True)`\n",
      "  data = data.replace(replacements)\n"
     ]
    }
   ],
   "source": [
    "data = data.replace(replacements)\n",
    "data = data.drop(['Timestamp', 'Email (Optional)'], axis=1)"
   ]
  },
  {
   "cell_type": "code",
   "execution_count": 5,
   "id": "e1fceecd-2bd9-436e-beec-9c0f837c83c4",
   "metadata": {},
   "outputs": [],
   "source": [
    "def find_first_hashtag_number(text):\n",
    "    \"\"\"\n",
    "    Get the number of the question. Ex. #1, #2, #3 using regex\n",
    "    \"\"\"\n",
    "    match = re.search(r'#\\d+', text)\n",
    "    if match:\n",
    "        return match.group()\n",
    "    else:\n",
    "        return None"
   ]
  },
  {
   "cell_type": "code",
   "execution_count": 6,
   "id": "9b647e54-fdde-4893-83c8-1f5ed1756e23",
   "metadata": {},
   "outputs": [],
   "source": [
    "# This are the correct categories for each question\n",
    "category_mapping = {\n",
    "\n",
    "    '#1': 'Generated_1',\n",
    "    '#2': 'MusicGen_1',\n",
    "    '#3': 'Original_1',\n",
    "    '#4': 'Original_2',\n",
    "    '#5': 'Generated_2',\n",
    "    '#6': 'MusicGen_2',\n",
    "    '#7': 'MusicGen_3',\n",
    "    '#8': 'Generated_3',\n",
    "    '#9': 'Original_3',\n",
    "    '#10': 'MusicGen_4',\n",
    "    '#11': 'Original_4',\n",
    "    '#12': 'Generated_4'\n",
    "}"
   ]
  },
  {
   "cell_type": "code",
   "execution_count": 7,
   "id": "b8dadb9f-8f3b-407b-87c4-b1d733bc0be8",
   "metadata": {},
   "outputs": [],
   "source": [
    "# Separate the questions into quality and aligning categories\n",
    "seen = set()\n",
    "to_replace = {}\n",
    "\n",
    "# For column\n",
    "for col in data.columns:\n",
    "\n",
    "    # Find the number\n",
    "    found_number = find_first_hashtag_number(col)\n",
    "\n",
    "    # If the first time, then it's quality\n",
    "    if found_number not in seen:\n",
    "        seen.add(found_number)\n",
    "        found_number = category_mapping[found_number] + '_quality'\n",
    "    # If the second time, then it's aligning\n",
    "    else:\n",
    "        found_number = category_mapping[found_number] + '_aligning'\n",
    "        \n",
    "    # Map the previous column name to the new one that should be replaced\n",
    "    to_replace[col] = found_number"
   ]
  },
  {
   "cell_type": "code",
   "execution_count": 8,
   "id": "167f6d4e-04fb-45fb-a020-0c6cfa5a2907",
   "metadata": {},
   "outputs": [],
   "source": [
    "# Rename the columns\n",
    "data = data.rename(columns=to_replace)"
   ]
  },
  {
   "cell_type": "code",
   "execution_count": 9,
   "id": "3d8c1858-86d1-4ff6-88b2-f029a5c3d443",
   "metadata": {},
   "outputs": [],
   "source": [
    "# Separate the quality and alignment columns\n",
    "quality_columns = [col for col in data.columns if 'quality' in col]\n",
    "alignment_columns = [col for col in data.columns if 'aligning' in col]"
   ]
  },
  {
   "cell_type": "code",
   "execution_count": 10,
   "id": "734dda69-34e2-4744-b9d5-72a1f2fd3075",
   "metadata": {},
   "outputs": [],
   "source": [
    "# Separate the datas\n",
    "quality_data = data[quality_columns]\n",
    "alignment_data = data[alignment_columns]"
   ]
  },
  {
   "cell_type": "code",
   "execution_count": 11,
   "id": "32fbd04d-616a-4a5a-88c7-4fb4aa3136ff",
   "metadata": {},
   "outputs": [],
   "source": [
    "# Define three categories\n",
    "categories = ['Generated', 'MusicGen', 'Original']"
   ]
  },
  {
   "cell_type": "code",
   "execution_count": 12,
   "id": "0d485ae7-42fd-4445-b60f-b507bf396758",
   "metadata": {},
   "outputs": [],
   "source": [
    "# Separate the datasets based on the categories\n",
    "quality_separated = {key: [col for col in quality_data.columns if key in col] for key in categories}\n",
    "alignment_separated = {key: [col for col in alignment_data.columns if key in col] for key in categories}"
   ]
  },
  {
   "cell_type": "code",
   "execution_count": 13,
   "id": "52783bab-032e-4114-b552-4972f0caa00f",
   "metadata": {},
   "outputs": [
    {
     "name": "stdout",
     "output_type": "stream",
     "text": [
      "Generated music quality average is equal to = 3.8452380952380953\n",
      "MusicGen music quality average is equal to = 3.201183431952663\n",
      "Original music quality average is equal to = 4.141176470588236\n"
     ]
    }
   ],
   "source": [
    "# Calculate the average for quality\n",
    "for category, columns in quality_separated.items():\n",
    "    count = 0\n",
    "    total = 0\n",
    "    for col in columns:\n",
    "        count += data[col].count()\n",
    "        total += data[col].sum(skipna=True)\n",
    "    print(f'{category} music quality average is equal to = {total/count}')"
   ]
  },
  {
   "cell_type": "code",
   "execution_count": 14,
   "id": "18483e73-6fc0-4bad-9429-75c37ecd2e17",
   "metadata": {},
   "outputs": [
    {
     "name": "stdout",
     "output_type": "stream",
     "text": [
      "Generated music alignment average is equal to = 3.9583333333333335\n",
      "MusicGen music alignment average is equal to = 3.1736526946107784\n",
      "Original music alignment average is equal to = 4.158823529411765\n"
     ]
    }
   ],
   "source": [
    "# Calculate the average for alignment\n",
    "for category, columns in alignment_separated.items():\n",
    "    count = 0\n",
    "    total = 0\n",
    "    for col in columns:\n",
    "        count += data[col].count()\n",
    "        total += data[col].sum(skipna=True)\n",
    "    print(f'{category} music alignment average is equal to = {total/count}')"
   ]
  },
  {
   "cell_type": "code",
   "execution_count": null,
   "id": "b3390709-ebf1-4647-87fa-3747b707a278",
   "metadata": {},
   "outputs": [],
   "source": []
  }
 ],
 "metadata": {
  "kernelspec": {
   "display_name": "MusicGen",
   "language": "python",
   "name": "musicgen"
  },
  "language_info": {
   "codemirror_mode": {
    "name": "ipython",
    "version": 3
   },
   "file_extension": ".py",
   "mimetype": "text/x-python",
   "name": "python",
   "nbconvert_exporter": "python",
   "pygments_lexer": "ipython3",
   "version": "3.9.0"
  }
 },
 "nbformat": 4,
 "nbformat_minor": 5
}
