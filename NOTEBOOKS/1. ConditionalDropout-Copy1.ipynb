{
 "cells": [
  {
   "cell_type": "markdown",
   "id": "667ba72c-54a0-4dff-91d1-9af7b57f89e1",
   "metadata": {},
   "source": [
    "# ConidtionFuser"
   ]
  },
  {
   "cell_type": "code",
   "execution_count": 2,
   "id": "22cf5a44-d847-448e-a41a-d46e9eca57ea",
   "metadata": {},
   "outputs": [
    {
     "name": "stderr",
     "output_type": "stream",
     "text": [
      "/home/karlos/Documents/workspace/venv/music/lib/python3.10/site-packages/tqdm/auto.py:21: TqdmWarning: IProgress not found. Please update jupyter and ipywidgets. See https://ipywidgets.readthedocs.io/en/stable/user_install.html\n",
      "  from .autonotebook import tqdm as notebook_tqdm\n"
     ]
    }
   ],
   "source": [
    "import sys\n",
    "sys.path.insert(0, '../')\n",
    "import torch\n",
    "from audiocraft.modules.conditioners import ConditionFuser"
   ]
  },
  {
   "cell_type": "code",
   "execution_count": 3,
   "id": "5c509a5c-ceeb-4a3c-be6c-9ffdc2dd9961",
   "metadata": {},
   "outputs": [],
   "source": [
    "fuser_args = {'cross_attention_pos_emb': False,\n",
    "              'cross_attention_pos_emb_scale': 1,\n",
    "              'sum': [],\n",
    "              'prepend': [],\n",
    "              'cross': ['description'],\n",
    "              'input_interpolate': []}"
   ]
  },
  {
   "cell_type": "code",
   "execution_count": null,
   "id": "3910f17e-ab83-4090-8d4c-6cfb5099d1c2",
   "metadata": {},
   "outputs": [],
   "source": []
  },
  {
   "cell_type": "markdown",
   "id": "42573f50-c88f-461a-9705-48de2f37750b",
   "metadata": {},
   "source": [
    "# ClassifierFreeGuidanceDropout"
   ]
  },
  {
   "cell_type": "code",
   "execution_count": 4,
   "id": "5452a9eb-71e1-41f3-96e1-16f6ff6d1dde",
   "metadata": {},
   "outputs": [],
   "source": [
    "import torch\n",
    "from audiocraft.modules.conditioners import ClassifierFreeGuidanceDropout, ConditioningAttributes"
   ]
  },
  {
   "cell_type": "code",
   "execution_count": 5,
   "id": "b16e85a7-cf4a-494c-8ab4-7f726f189b18",
   "metadata": {},
   "outputs": [],
   "source": [
    "t = torch.rand(size = (1, 4, 10))"
   ]
  },
  {
   "cell_type": "code",
   "execution_count": 6,
   "id": "e1a9e53e-1aed-46ab-86cc-d07ebee635e2",
   "metadata": {},
   "outputs": [
    {
     "data": {
      "text/plain": [
       "ConditioningAttributes(text={'description': 'Here I am now'}, wav={}, joint_embed={})"
      ]
     },
     "execution_count": 6,
     "metadata": {},
     "output_type": "execute_result"
    }
   ],
   "source": [
    "conditioning_attribute = ConditioningAttributes(text = {\"description\": \"Here I am now\"})\n",
    "conditioning_attribute"
   ]
  },
  {
   "cell_type": "code",
   "execution_count": 8,
   "id": "75aa0fb6-f7a2-4fd1-93c5-0b0cae24cb7e",
   "metadata": {},
   "outputs": [
    {
     "data": {
      "text/plain": [
       "[ConditioningAttributes(text={'description': 'Here I am now'}, wav={}, joint_embed={})]"
      ]
     },
     "execution_count": 8,
     "metadata": {},
     "output_type": "execute_result"
    }
   ],
   "source": [
    "ClassifierFreeGuidanceDropout(p=0.0)([conditioning_attribute])"
   ]
  },
  {
   "cell_type": "markdown",
   "id": "1a63e1be-d727-4cbf-900a-d43daa09672b",
   "metadata": {},
   "source": [
    "# DelayedPatternProvider"
   ]
  },
  {
   "cell_type": "code",
   "execution_count": 9,
   "id": "b31eb43f-601f-455a-adbc-da72ff05d8a7",
   "metadata": {},
   "outputs": [],
   "source": [
    "from audiocraft.modules.codebooks_patterns import DelayedPatternProvider"
   ]
  },
  {
   "cell_type": "code",
   "execution_count": 13,
   "id": "206eb43f-f35b-4ac8-bf63-5768f460266f",
   "metadata": {},
   "outputs": [],
   "source": [
    "pattern_provider = DelayedPatternProvider(4, delays=[0,1,2,3])"
   ]
  },
  {
   "cell_type": "code",
   "execution_count": 18,
   "id": "9f6461ab-427d-4cd1-84c8-752964923feb",
   "metadata": {},
   "outputs": [],
   "source": [
    "pattern = pattern_provider.get_pattern(15)"
   ]
  },
  {
   "cell_type": "code",
   "execution_count": 19,
   "id": "c25d1c9d-a836-4841-871d-7f964174c7c9",
   "metadata": {},
   "outputs": [],
   "source": [
    "t = torch.rand(size = (1, 4, 10))"
   ]
  },
  {
   "cell_type": "code",
   "execution_count": 20,
   "id": "8b9d73dd-e258-4459-a559-259c04001434",
   "metadata": {},
   "outputs": [
    {
     "data": {
      "text/plain": [
       "(tensor([[[-1.0000,  0.9081,  0.6864,  0.5895,  0.6139,  0.0775,  0.5167,\n",
       "            0.2959,  0.1331,  0.2415,  0.4306, -1.0000, -1.0000, -1.0000,\n",
       "           -1.0000, -1.0000, -1.0000, -1.0000, -1.0000],\n",
       "          [-1.0000, -1.0000,  0.9293,  0.5303,  0.9221,  0.9487,  0.4307,\n",
       "            0.7470,  0.5274,  0.5737,  0.9933,  0.4489, -1.0000, -1.0000,\n",
       "           -1.0000, -1.0000, -1.0000, -1.0000, -1.0000],\n",
       "          [-1.0000, -1.0000, -1.0000,  0.1292,  0.6397,  0.5820,  0.2968,\n",
       "            0.9788,  0.1210,  0.7964,  0.2011,  0.7083,  0.7013, -1.0000,\n",
       "           -1.0000, -1.0000, -1.0000, -1.0000, -1.0000],\n",
       "          [-1.0000, -1.0000, -1.0000, -1.0000,  0.2545,  0.9201,  0.4730,\n",
       "            0.3478,  0.6736,  0.9236,  0.3878,  0.1821,  0.0045,  0.8292,\n",
       "           -1.0000, -1.0000, -1.0000, -1.0000, -1.0000]]]),\n",
       " tensor([[40,  0,  1,  2,  3,  4,  5,  6,  7,  8,  9, 40, 40, 40, 40, 40, 40, 40,\n",
       "          40],\n",
       "         [40, 40, 10, 11, 12, 13, 14, 15, 16, 17, 18, 19, 40, 40, 40, 40, 40, 40,\n",
       "          40],\n",
       "         [40, 40, 40, 20, 21, 22, 23, 24, 25, 26, 27, 28, 29, 40, 40, 40, 40, 40,\n",
       "          40],\n",
       "         [40, 40, 40, 40, 30, 31, 32, 33, 34, 35, 36, 37, 38, 39, 40, 40, 40, 40,\n",
       "          40]]),\n",
       " tensor([[False,  True,  True,  True,  True,  True,  True,  True,  True,  True,\n",
       "           True, False, False, False, False, False, False, False, False],\n",
       "         [False, False,  True,  True,  True,  True,  True,  True,  True,  True,\n",
       "           True,  True, False, False, False, False, False, False, False],\n",
       "         [False, False, False,  True,  True,  True,  True,  True,  True,  True,\n",
       "           True,  True,  True, False, False, False, False, False, False],\n",
       "         [False, False, False, False,  True,  True,  True,  True,  True,  True,\n",
       "           True,  True,  True,  True, False, False, False, False, False]]))"
      ]
     },
     "execution_count": 20,
     "metadata": {},
     "output_type": "execute_result"
    }
   ],
   "source": [
    "pattern.build_pattern_sequence(t, -1)"
   ]
  },
  {
   "cell_type": "code",
   "execution_count": 21,
   "id": "e15e578f-38ca-4853-aedc-5115f65e0ec2",
   "metadata": {},
   "outputs": [
    {
     "data": {
      "text/plain": [
       "1"
      ]
     },
     "execution_count": 21,
     "metadata": {},
     "output_type": "execute_result"
    }
   ],
   "source": [
    "pattern.get_first_step_with_timesteps(0)"
   ]
  },
  {
   "cell_type": "code",
   "execution_count": 22,
   "id": "1341a4ba-3b5f-462e-80ff-84da05d37a2b",
   "metadata": {},
   "outputs": [
    {
     "data": {
      "text/plain": [
       "2"
      ]
     },
     "execution_count": 22,
     "metadata": {},
     "output_type": "execute_result"
    }
   ],
   "source": [
    "pattern.get_first_step_with_timesteps(1)"
   ]
  },
  {
   "cell_type": "code",
   "execution_count": 23,
   "id": "69766b77-70a5-442c-8c3f-f4daffc26df3",
   "metadata": {},
   "outputs": [
    {
     "data": {
      "text/plain": [
       "3"
      ]
     },
     "execution_count": 23,
     "metadata": {},
     "output_type": "execute_result"
    }
   ],
   "source": [
    "pattern.get_first_step_with_timesteps(2)"
   ]
  },
  {
   "cell_type": "code",
   "execution_count": 31,
   "id": "c383da3a-d85c-4546-9a86-4e1a4bc065a2",
   "metadata": {},
   "outputs": [
    {
     "data": {
      "text/plain": [
       "torch.Size([1, 2, 2])"
      ]
     },
     "execution_count": 31,
     "metadata": {},
     "output_type": "execute_result"
    }
   ],
   "source": [
    "tt = torch.rand(2, 2, 2)\n",
    "tt.split(1, dim=0)[0].shape"
   ]
  },
  {
   "cell_type": "markdown",
   "id": "6f2527bd-811a-48c2-9ab2-be6f869ee071",
   "metadata": {},
   "source": [
    "# Dataset, DataLoaders"
   ]
  },
  {
   "cell_type": "code",
   "execution_count": 1,
   "id": "6eb92827-7277-4b17-827e-172c46ecebd3",
   "metadata": {},
   "outputs": [
    {
     "name": "stderr",
     "output_type": "stream",
     "text": [
      "/home/karlos/.pyenv/versions/3.9.18/envs/music/lib/python3.9/site-packages/tqdm/auto.py:21: TqdmWarning: IProgress not found. Please update jupyter and ipywidgets. See https://ipywidgets.readthedocs.io/en/stable/user_install.html\n",
      "  from .autonotebook import tqdm as notebook_tqdm\n"
     ]
    }
   ],
   "source": [
    "import torch\n",
    "from audiocraft.solvers import builders\n",
    "from audiocraft.environment import AudioCraftEnvironment\n",
    "from audiocraft.utils.utils import get_loader\n",
    "\n",
    "from omegaconf import OmegaConf\n",
    "import os\n",
    "os.environ[\"AUDIOCRAFT_CONFIG\"] = \"../config/teams/default.yaml\""
   ]
  },
  {
   "cell_type": "code",
   "execution_count": 2,
   "id": "845cce5b-f2ce-41a9-a874-d46707e41872",
   "metadata": {},
   "outputs": [],
   "source": [
    "class AttrDict(dict):\n",
    "    \"\"\" Dictionary subclass whose entries can be accessed by attributes (as well\n",
    "        as normally).\n",
    "\n",
    "    >>> obj = AttrDict()\n",
    "    >>> obj['test'] = 'hi'\n",
    "    >>> print obj.test\n",
    "    hi\n",
    "    >>> del obj.test\n",
    "    >>> obj.test = 'bye'\n",
    "    >>> print obj['test']\n",
    "    bye\n",
    "    >>> print len(obj)\n",
    "    1\n",
    "    >>> obj.clear()\n",
    "    >>> print len(obj)\n",
    "    0\n",
    "    \"\"\"\n",
    "    def __init__(self, *args, **kwargs):\n",
    "        super(AttrDict, self).__init__(*args, **kwargs)\n",
    "        self.__dict__ = self\n",
    "\n",
    "    @classmethod\n",
    "    def from_nested_dicts(cls, data):\n",
    "        \"\"\" Construct nested AttrDicts from nested dictionaries. \"\"\"\n",
    "        if not isinstance(data, dict):\n",
    "            return data\n",
    "        else:\n",
    "            return cls({key: cls.from_nested_dicts(data[key]) for key in data})\n",
    "\n"
   ]
  },
  {
   "cell_type": "code",
   "execution_count": 3,
   "id": "a58ae401-6d89-4aa4-a588-741aa6a081e4",
   "metadata": {},
   "outputs": [],
   "source": [
    "cfg_raw = {'sample_rate': 32000,\n",
    "       'seed': 2036,\n",
    "       'max_sample_rate': 32000,\n",
    "       'max_channels': 1,\n",
    "        'channels': 1,\n",
    "       'dataset': {'batch_size': 1,\n",
    "                   'num_workers': 10,\n",
    "                   'segment_duration': 30,\n",
    "                   'num_samples': None,\n",
    "                   'return_info': True,\n",
    "                   'shuffle': False,\n",
    "                   'sample_on_duration': False,\n",
    "                   'sample_on_weight': False,\n",
    "                   'min_segment_ratio': 0.8,\n",
    "                   'train': {'num_samples': 1000000, 'shuffle': True},\n",
    "                   'valid': {'num_samples': 10000},\n",
    "                   'evaluate': {'num_samples': 10000},\n",
    "                   'generate': {'num_samples': 50, 'return_info': True, 'batch_size': 1}},\n",
    "       'execute_only': None,\n",
    "       'datasource': {'max_sample_rate': 44100, \n",
    "                      'max_channels': 2, \n",
    "                      'train': 'egs/example',\n",
    "                      'valid': 'egs/example', \n",
    "                      'evaluate': 'egs/example', \n",
    "                      'generate': 'egs/example'},\n",
    "       'optim': {\n",
    "               # 'epochs': 500,\n",
    "                 'updates_per_epoch': 2000,\n",
    "                 # 'lr': 1,\n",
    "                 # 'optimizer': 'dadam',\n",
    "                 # 'adam': {'betas': [0.9, 0.95],\n",
    "                 #          'weight_decay': 0.1,\n",
    "                 #          'eps': 1e-08},\n",
    "                 # 'ema': {'use': True,\n",
    "                 #         'updates': 10,\n",
    "                 #         'device': 'cpu',\n",
    "                 #         'decay': 0.99},\n",
    "                 # 'max_norm': 1.0,\n",
    "                 # 'eager_sync': True\n",
    "                },\n",
    "           'return_info': True\n",
    "    }\n",
    "\n"
   ]
  },
  {
   "cell_type": "code",
   "execution_count": 4,
   "id": "55ec5d60-9c14-4328-ba97-a674cd8fa69b",
   "metadata": {},
   "outputs": [],
   "source": [
    "# cfg = AttrDict.from_nested_dicts(cfg_raw)\n",
    "cfg = OmegaConf.create(cfg_raw)"
   ]
  },
  {
   "cell_type": "code",
   "execution_count": 5,
   "id": "b6cc9758-6076-4535-abf9-806e2a53eb6d",
   "metadata": {},
   "outputs": [
    {
     "name": "stderr",
     "output_type": "stream",
     "text": [
      "/home/karlos/.pyenv/versions/3.9.18/envs/music/lib/python3.9/site-packages/torch/utils/data/dataloader.py:557: UserWarning: This DataLoader will create 10 worker processes in total. Our suggested max number of worker in current system is 8, which is smaller than what this DataLoader is going to create. Please be aware that excessive worker creation might get DataLoader running slow or even freeze, lower the worker number to avoid potential slowness/freeze if necessary.\n",
      "  warnings.warn(_create_warning_msg(\n"
     ]
    }
   ],
   "source": [
    "dataloaders = builders.get_audio_datasets(cfg, dataset_type=builders.DatasetType.MUSIC)"
   ]
  },
  {
   "cell_type": "code",
   "execution_count": 6,
   "id": "5329ffc2-4511-49fb-b685-b176a9032a8a",
   "metadata": {},
   "outputs": [
    {
     "data": {
      "text/plain": [
       "{'train': <torch.utils.data.dataloader.DataLoader at 0x7f9980419b20>,\n",
       " 'valid': <torch.utils.data.dataloader.DataLoader at 0x7f9812edc460>,\n",
       " 'evaluate': <torch.utils.data.dataloader.DataLoader at 0x7f9812edc520>,\n",
       " 'generate': <torch.utils.data.dataloader.DataLoader at 0x7f9812edc6a0>}"
      ]
     },
     "execution_count": 6,
     "metadata": {},
     "output_type": "execute_result"
    }
   ],
   "source": [
    "dataloaders"
   ]
  },
  {
   "cell_type": "code",
   "execution_count": 7,
   "id": "6e486cfd-795b-4989-99b3-d3b23cd4fdf3",
   "metadata": {},
   "outputs": [],
   "source": [
    "batch = next(iter(dataloaders['train']))"
   ]
  },
  {
   "cell_type": "code",
   "execution_count": 8,
   "id": "e5190684-b9a1-48dc-938a-21c936b2ddaa",
   "metadata": {},
   "outputs": [
    {
     "data": {
      "text/plain": [
       "2"
      ]
     },
     "execution_count": 8,
     "metadata": {},
     "output_type": "execute_result"
    }
   ],
   "source": [
    "len(batch)"
   ]
  },
  {
   "cell_type": "code",
   "execution_count": 9,
   "id": "40a3faac-ec0e-4de3-8096-6f003e024473",
   "metadata": {},
   "outputs": [],
   "source": [
    "music, segment_with_attributes = batch"
   ]
  },
  {
   "cell_type": "code",
   "execution_count": 10,
   "id": "3c4529c4-d812-4912-a813-c91dd48ac495",
   "metadata": {},
   "outputs": [
    {
     "data": {
      "text/plain": [
       "(1, 960000, 30)"
      ]
     },
     "execution_count": 10,
     "metadata": {},
     "output_type": "execute_result"
    }
   ],
   "source": [
    "len(music), len(music[0][0]), len(music[0][0])//cfg.sample_rate"
   ]
  },
  {
   "cell_type": "code",
   "execution_count": 11,
   "id": "ca8fc1c3-5aed-44a7-8580-0e3cd06774f3",
   "metadata": {},
   "outputs": [
    {
     "data": {
      "text/plain": [
       "MusicInfo(meta=AudioMeta(path='/home/karlos/Documents/workspace/projects/music/audiocraft/NEW_REFORMATTED/dataset/example/electro_1.mp3', duration=15.024, sample_rate=48000, amplitude=None, weight=None, info_path=None), seek_time=0.0, n_frames=480000, total_frames=960000, sample_rate=32000, channels=1, audio_tokens=None, title='Enracinement', artist='Voyager I', key=None, bpm=None, genre='electronic', moods=['uplifting', 'motivational'], keywords=['bright', 'pulsing', 'cool'], description='A cool song from Voyager.', name='electro_1', instrument='mix', self_wav=WavCondition(wav=tensor([[[0.0338, 0.0341, 0.0290,  ..., 0.0000, 0.0000, 0.0000]]]), length=tensor([480000]), sample_rate=[32000], path=['/home/karlos/Documents/workspace/projects/music/audiocraft/NEW_REFORMATTED/dataset/example/electro_1.mp3'], seek_time=[0.0]), joint_embed={})"
      ]
     },
     "execution_count": 11,
     "metadata": {},
     "output_type": "execute_result"
    }
   ],
   "source": [
    "segment_with_attributes[0]"
   ]
  },
  {
   "cell_type": "code",
   "execution_count": 12,
   "id": "164e589d-f6a9-4e70-8b17-a605044f551a",
   "metadata": {},
   "outputs": [
    {
     "data": {
      "text/plain": [
       "1000000"
      ]
     },
     "execution_count": 12,
     "metadata": {},
     "output_type": "execute_result"
    }
   ],
   "source": [
    "len(dataloaders['train'])"
   ]
  },
  {
   "cell_type": "code",
   "execution_count": 13,
   "id": "2a978bcb-bc07-4089-b20e-6455fb3fdcf0",
   "metadata": {},
   "outputs": [],
   "source": [
    "from audiocraft import data"
   ]
  },
  {
   "cell_type": "code",
   "execution_count": 14,
   "id": "8fff77d6-b225-41b4-9e7b-777986be6013",
   "metadata": {},
   "outputs": [],
   "source": [
    "def dict_from_config(cfg) -> dict:\n",
    "    \"\"\"Convenience function to map an omegaconf configuration to a dictionary.\n",
    "\n",
    "    Args:\n",
    "        cfg (omegaconf.DictConfig): Original configuration to map to dict.\n",
    "    Returns:\n",
    "        dict: Config as dictionary object.\n",
    "    \"\"\"\n",
    "    dct = OmegaConf.to_container(cfg, resolve=True)\n",
    "    assert isinstance(dct, dict)\n",
    "    return dct"
   ]
  },
  {
   "cell_type": "code",
   "execution_count": 15,
   "id": "22e292dd-157b-4d7a-81ce-eaf42ee07a66",
   "metadata": {},
   "outputs": [],
   "source": [
    "path = 'egs/example'\n",
    "dataset_cfg = dict_from_config(cfg.dataset)\n",
    "splits_cfg: dict = {}\n",
    "splits_cfg['train'] = dataset_cfg.pop('train')\n",
    "splits_cfg['valid'] = dataset_cfg.pop('valid')\n",
    "splits_cfg['evaluate'] = dataset_cfg.pop('evaluate')\n",
    "splits_cfg['generate'] = dataset_cfg.pop('generate')\n",
    "execute_only_stage = cfg.get('execute_only', None)\n",
    "\n",
    "split_cfg = splits_cfg['train']\n",
    "split_kwargs = {k: v for k, v in split_cfg.items()} #KM: 'train': {'num_samples': 1000000, 'shuffle': True, 'shuffle_seed': 0, 'permutation_on_files': False, 'merge_text_p': 0.25, 'drop_desc_p': 0.5, 'drop_other_p': 0.5}, 'valid': {'num_samples': 10000}, 'evaluate': {'num_samples': 10000}, 'generate': {'num_samples': 50, 'return_info': True}\n",
    "kwargs = {**dataset_cfg, **split_kwargs}  # split kwargs overrides default dataset_cfg\n",
    "\n",
    "\n",
    "return_info = kwargs.pop('return_info')\n",
    "batch_size = kwargs.pop('batch_size', None)\n",
    "num_workers = kwargs.pop('num_workers')"
   ]
  },
  {
   "cell_type": "code",
   "execution_count": 16,
   "id": "908ae6f9-ee6d-47fe-b937-ced71b02a079",
   "metadata": {},
   "outputs": [],
   "source": [
    "ds = data.music_dataset.MusicDataset.from_meta(path, **kwargs)"
   ]
  },
  {
   "cell_type": "code",
   "execution_count": 17,
   "id": "f59c5695-c4a4-4cb9-993b-7d08303e17d5",
   "metadata": {},
   "outputs": [
    {
     "data": {
      "text/plain": [
       "1000000"
      ]
     },
     "execution_count": 17,
     "metadata": {},
     "output_type": "execute_result"
    }
   ],
   "source": [
    "len(ds)"
   ]
  },
  {
   "cell_type": "code",
   "execution_count": 18,
   "id": "e19308be-aace-4bc1-8229-08233bb29570",
   "metadata": {},
   "outputs": [
    {
     "data": {
      "text/plain": [
       "960000000000"
      ]
     },
     "execution_count": 18,
     "metadata": {},
     "output_type": "execute_result"
    }
   ],
   "source": [
    "1000000*30*32000"
   ]
  },
  {
   "cell_type": "code",
   "execution_count": 19,
   "id": "234c552f-ca1c-4d55-a037-82d252e517a4",
   "metadata": {},
   "outputs": [
    {
     "data": {
      "text/plain": [
       "(tensor([[[0.0338, 0.0341, 0.0290,  ..., 0.0000, 0.0000, 0.0000]]]),\n",
       " [MusicInfo(meta=AudioMeta(path='/home/karlos/Documents/workspace/projects/music/audiocraft/NEW_REFORMATTED/dataset/example/electro_1.mp3', duration=15.024, sample_rate=48000, amplitude=None, weight=None, info_path=None), seek_time=0.0, n_frames=480000, total_frames=960000, sample_rate=32000, channels=1, audio_tokens=None, title='Enracinement', artist='Voyager I', key=None, bpm=None, genre='electronic', moods=['uplifting', 'motivational'], keywords=['bright', 'pulsing', 'cool'], description='A cool song from Voyager.', name='electro_1', instrument='mix', self_wav=WavCondition(wav=tensor([[[0.0338, 0.0341, 0.0290,  ..., 0.0000, 0.0000, 0.0000]]]), length=tensor([480000]), sample_rate=[32000], path=['/home/karlos/Documents/workspace/projects/music/audiocraft/NEW_REFORMATTED/dataset/example/electro_1.mp3'], seek_time=[0.0]), joint_embed={})])"
      ]
     },
     "execution_count": 19,
     "metadata": {},
     "output_type": "execute_result"
    }
   ],
   "source": [
    "batch"
   ]
  }
 ],
 "metadata": {
  "kernelspec": {
   "display_name": "Python 3 (ipykernel)",
   "language": "python",
   "name": "python3"
  },
  "language_info": {
   "codemirror_mode": {
    "name": "ipython",
    "version": 3
   },
   "file_extension": ".py",
   "mimetype": "text/x-python",
   "name": "python",
   "nbconvert_exporter": "python",
   "pygments_lexer": "ipython3",
   "version": "3.10.12"
  }
 },
 "nbformat": 4,
 "nbformat_minor": 5
}
