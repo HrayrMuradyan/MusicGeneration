{
 "cells": [
  {
   "cell_type": "code",
   "execution_count": null,
   "id": "e39e9db9",
   "metadata": {},
   "outputs": [],
   "source": [
    "import sys\n",
    "sys.path.insert(0, '../')\n",
    "\n",
    "import torch\n",
    "from omegaconf import OmegaConf\n",
    "\n",
    "from audiocraft.models.loaders import load_lm_model_ckpt, _delete_param, load_compression_model\n",
    "from audiocraft.models.musicgen import MusicGen"
   ]
  },
  {
   "cell_type": "code",
   "execution_count": null,
   "id": "e20a897f",
   "metadata": {},
   "outputs": [],
   "source": [
    "checkpoint_def = 'facebook/musicgen-small'\n",
    "checkpoint_trained = '/home/karlos/Documents/workspace/proj/music/trained_models/v0_22_apr26/dea3706f/checkpoint.th'"
   ]
  },
  {
   "cell_type": "code",
   "execution_count": null,
   "id": "1a48d42b",
   "metadata": {},
   "outputs": [],
   "source": [
    "if torch.cuda.device_count():\n",
    "    device = 'cuda'\n",
    "else:\n",
    "    device = 'cpu'\n",
    "    \n",
    "cache_dir=None\n",
    "memory_saver=False"
   ]
  },
  {
   "cell_type": "code",
   "execution_count": null,
   "id": "13656135",
   "metadata": {},
   "outputs": [],
   "source": [
    "lm_model_ckpt = load_lm_model_ckpt(checkpoint_trained, cache_dir=cache_dir)\n",
    "cfg = OmegaConf.create(lm_model_ckpt['xp.cfg'])"
   ]
  },
  {
   "cell_type": "code",
   "execution_count": null,
   "id": "372b5fb7",
   "metadata": {},
   "outputs": [],
   "source": [
    "lm_model_ckpt_def = load_lm_model_ckpt(checkpoint_def, cache_dir=cache_dir)\n",
    "cfg_def = OmegaConf.create(lm_model_ckpt_def['xp.cfg'])"
   ]
  },
  {
   "cell_type": "markdown",
   "id": "68371809",
   "metadata": {},
   "source": [
    "## Load LM Model"
   ]
  },
  {
   "cell_type": "code",
   "execution_count": null,
   "id": "a965b190",
   "metadata": {},
   "outputs": [],
   "source": [
    "if cfg.device == 'cpu':\n",
    "    cfg.dtype = 'float32'\n",
    "else:\n",
    "    cfg.dtype = 'float16'\n",
    "OmegaConf.update(cfg_def, \"memory_saver.enable\", memory_saver)\n",
    "_delete_param(cfg_def, 'conditioners.self_wav.chroma_stem.cache_path')\n",
    "_delete_param(cfg_def, 'conditioners.args.merge_text_conditions_p')\n",
    "_delete_param(cfg_def, 'conditioners.args.drop_desc_p')"
   ]
  },
  {
   "cell_type": "code",
   "execution_count": null,
   "id": "b62d8925",
   "metadata": {},
   "outputs": [],
   "source": [
    "from audiocraft.models.builders import get_lm_model"
   ]
  },
  {
   "cell_type": "code",
   "execution_count": null,
   "id": "8f3701f0",
   "metadata": {},
   "outputs": [],
   "source": [
    "lm_model = get_lm_model(cfg_def)"
   ]
  },
  {
   "cell_type": "code",
   "execution_count": null,
   "id": "bb8b54ac",
   "metadata": {},
   "outputs": [],
   "source": [
    "condition_weight = 'condition_provider.conditioners.description.output_proj.weight'\n",
    "condition_bias = 'condition_provider.conditioners.description.output_proj.bias'"
   ]
  },
  {
   "cell_type": "code",
   "execution_count": null,
   "id": "a700c429",
   "metadata": {},
   "outputs": [],
   "source": [
    "lm_model_ckpt['best_state']['model'][condition_weight] = lm_model_ckpt_def['best_state'][condition_weight]\n",
    "lm_model_ckpt['best_state']['model'][condition_bias] = lm_model_ckpt_def['best_state'][condition_bias]"
   ]
  },
  {
   "cell_type": "code",
   "execution_count": null,
   "id": "44e59b59",
   "metadata": {},
   "outputs": [],
   "source": [
    "lm_model.load_state_dict(lm_model_ckpt['best_state']['model'])\n",
    "lm_model.eval()\n",
    "lm_model.cfg = cfg"
   ]
  },
  {
   "cell_type": "markdown",
   "id": "d1c694e8",
   "metadata": {},
   "source": [
    "## Compression Model"
   ]
  },
  {
   "cell_type": "code",
   "execution_count": null,
   "id": "3c272ff5",
   "metadata": {},
   "outputs": [],
   "source": [
    "compression_model = load_compression_model(checkpoint_def, device=device)"
   ]
  },
  {
   "cell_type": "code",
   "execution_count": null,
   "id": "e7063916",
   "metadata": {},
   "outputs": [],
   "source": [
    "if 'self_wav' in lm_model.condition_provider.conditioners:\n",
    "    lm_model.condition_provider.conditioners['self_wav'].match_len_on_eval = True\n",
    "    lm_model.condition_provider.conditioners['self_wav']._use_masking = False"
   ]
  },
  {
   "cell_type": "markdown",
   "id": "1ec2d545",
   "metadata": {},
   "source": [
    "## MusicGen"
   ]
  },
  {
   "cell_type": "code",
   "execution_count": null,
   "id": "4e282234",
   "metadata": {},
   "outputs": [],
   "source": [
    "musicgen = MusicGen(checkpoint_def, compression_model, lm_model)"
   ]
  },
  {
   "cell_type": "code",
   "execution_count": null,
   "id": "88615bec",
   "metadata": {},
   "outputs": [],
   "source": [
    "musicgen.set_generation_params(duration=30)"
   ]
  },
  {
   "cell_type": "markdown",
   "id": "6cfaba3d",
   "metadata": {},
   "source": [
    "## Generation"
   ]
  },
  {
   "cell_type": "code",
   "execution_count": null,
   "id": "629d2234",
   "metadata": {},
   "outputs": [],
   "source": [
    "music = musicgen.generate(['Generate duduk with relaxing attributes that shows Armenian herritage',\n",
    "                          'Duduk',\n",
    "                          'duduk with violing and piano in the background',\n",
    "                          'Armenian',\n",
    "                          'Armenian folk music'])"
   ]
  },
  {
   "cell_type": "code",
   "execution_count": null,
   "id": "bd8cb337",
   "metadata": {},
   "outputs": [],
   "source": [
    "from IPython.display import Audio, display\n",
    "for i in range(music.shape[0]):\n",
    "    display(Audio(music[i][0].detach().cpu(), rate=32000))"
   ]
  },
  {
   "cell_type": "code",
   "execution_count": null,
   "id": "92998604-501f-4b23-9906-5fe5076bb5c4",
   "metadata": {},
   "outputs": [],
   "source": [
    "music = musicgen.generate(['Piano in Armenian style',\n",
    "                          'Relaxing piano',\n",
    "                          'Piano',\n",
    "                          'A music that has been described as classical, contemporary, impressionist, and modern, with piano playing as an essential instrument, creates a relaxing atmosphere where emotions are evoked through various moods.',\n",
    "                          'Classical, contemporary, modern piano',\n",
    "                          'combination of piano, violin, and cello instruments for film soundtrack'])"
   ]
  },
  {
   "cell_type": "code",
   "execution_count": null,
   "id": "25a5ad50-8e83-48e2-a6fc-0795244571f5",
   "metadata": {},
   "outputs": [],
   "source": [
    "from IPython.display import Audio, display\n",
    "for i in range(music.shape[0]):\n",
    "    display(Audio(music[i][0].detach().cpu(), rate=32000))"
   ]
  },
  {
   "cell_type": "code",
   "execution_count": null,
   "id": "3b7a8be7-9e6f-46e8-987b-967a32562411",
   "metadata": {},
   "outputs": [],
   "source": [
    "music = musicgen.generate(['Duduk to be used as a film soundtrack',\n",
    "                          'Relaxing duduk',\n",
    "                          'Active duduk for dances',\n",
    "                          ])"
   ]
  },
  {
   "cell_type": "code",
   "execution_count": null,
   "id": "44c1fe2d-1445-43bd-a164-b127778891d9",
   "metadata": {},
   "outputs": [],
   "source": [
    "from IPython.display import Audio, display\n",
    "for i in range(music.shape[0]):\n",
    "    display(Audio(music[i][0].detach().cpu(), rate=32000))"
   ]
  },
  {
   "cell_type": "code",
   "execution_count": null,
   "id": "1298a2c7-cd3d-41d8-81f3-c66937d10424",
   "metadata": {},
   "outputs": [],
   "source": [
    "music = musicgen.generate(['A music that has elements of classical, contemporary, and traditional Armenian folk music, featuring the duduk as an instrument, accompanied by a piano, evokes a sense of relaxation, meditation, and emotional connection with the audience.',\n",
    "                          'duduk piano for meditation',\n",
    "                          'Armenian folk music with instruments duduk and piano',\n",
    "                          ])"
   ]
  },
  {
   "cell_type": "code",
   "execution_count": null,
   "id": "781df2cf-2cdd-4703-a50a-76313ed77376",
   "metadata": {},
   "outputs": [],
   "source": [
    "from IPython.display import Audio, display\n",
    "for i in range(music.shape[0]):\n",
    "    display(Audio(music[i][0].detach().cpu(), rate=32000))"
   ]
  },
  {
   "cell_type": "markdown",
   "id": "e46a012c",
   "metadata": {},
   "source": [
    "### From attributes.pt"
   ]
  },
  {
   "cell_type": "code",
   "execution_count": null,
   "id": "152bff3c",
   "metadata": {},
   "outputs": [],
   "source": [
    "attributes = torch.load('../Test/attributes.pt')\n",
    "condition_tensors = attributes['condition_tensors']"
   ]
  },
  {
   "cell_type": "code",
   "execution_count": null,
   "id": "318a8fd0",
   "metadata": {},
   "outputs": [],
   "source": [
    "for k, v in condition_tensors.items():\n",
    "    if isinstance(v, torch.Tensor):\n",
    "        condition_tensors[k] = condition_tensors[k].to('cuda')\n",
    "    elif isinstance(v, list) or isinstance(v, tuple):\n",
    "        condition_tensors[k] = tuple(\n",
    "            [condition_tensors[k][i].to('cuda') for i in range(len(condition_tensors[k]))])\n",
    "        \n",
    "generation_params = {\n",
    "            'use_sampling': cfg.generate.lm.use_sampling,\n",
    "            'temp': cfg.generate.lm.temp,\n",
    "            'top_k': cfg.generate.lm.top_k,\n",
    "            'top_p': cfg.generate.lm.top_p,\n",
    "        }\n",
    "\n",
    "condition_tensors['description'] = (condition_tensors['description'][0].unsqueeze(0), condition_tensors['description'][1])"
   ]
  },
  {
   "cell_type": "code",
   "execution_count": null,
   "id": "3146c265",
   "metadata": {},
   "outputs": [],
   "source": [
    "compression_frame_rate = 50"
   ]
  },
  {
   "cell_type": "code",
   "execution_count": null,
   "id": "17160262",
   "metadata": {},
   "outputs": [],
   "source": [
    "total_gen_len = musicgen.duration * compression_frame_rate\n",
    "gen_tokens = musicgen.lm.generate(\n",
    "    None, None, condition_tensors, max_gen_len=total_gen_len,\n",
    "    num_samples=1, **generation_params)"
   ]
  },
  {
   "cell_type": "code",
   "execution_count": null,
   "id": "750f3fd0",
   "metadata": {},
   "outputs": [],
   "source": [
    "gen_audio = musicgen.compression_model.decode(gen_tokens, None)\n",
    "from IPython.display import Audio\n",
    "Audio(gen_audio[0][0].detach().cpu(), rate=32000)"
   ]
  },
  {
   "cell_type": "code",
   "execution_count": null,
   "id": "6099b32d",
   "metadata": {},
   "outputs": [],
   "source": []
  }
 ],
 "metadata": {
  "kernelspec": {
   "display_name": "Python 3 (ipykernel)",
   "language": "python",
   "name": "python3"
  },
  "language_info": {
   "codemirror_mode": {
    "name": "ipython",
    "version": 3
   },
   "file_extension": ".py",
   "mimetype": "text/x-python",
   "name": "python",
   "nbconvert_exporter": "python",
   "pygments_lexer": "ipython3",
   "version": "3.10.12"
  }
 },
 "nbformat": 4,
 "nbformat_minor": 5
}
