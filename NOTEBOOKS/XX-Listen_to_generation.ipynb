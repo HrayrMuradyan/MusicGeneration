{
 "cells": [
  {
   "cell_type": "markdown",
   "id": "2e89fb53-8d7c-42cd-826d-89b404961152",
   "metadata": {},
   "source": [
    "# Listen to training time generations"
   ]
  },
  {
   "cell_type": "markdown",
   "id": "715e5862-ad35-4918-a901-840b62f4df1e",
   "metadata": {},
   "source": [
    "### Import libraries"
   ]
  },
  {
   "cell_type": "code",
   "execution_count": null,
   "id": "88b43fb5-1b37-4a02-abf7-b141875b1cb0",
   "metadata": {},
   "outputs": [],
   "source": [
    "import sys\n",
    "sys.path.insert(0, '../')\n",
    "\n",
    "import IPython.display as ipd\n",
    "\n",
    "from audiocraft.models import encodec, loaders, builders\n",
    "from audiocraft.utils import utils\n",
    "import omegaconf\n",
    "import torch\n",
    "import os\n",
    "import random\n",
    "import json\n",
    "random.seed(3)"
   ]
  },
  {
   "cell_type": "markdown",
   "id": "ad3b5ee9-94e0-42ac-86a8-93b34cb0301c",
   "metadata": {},
   "source": [
    "### Preparing sample paths"
   ]
  },
  {
   "cell_type": "code",
   "execution_count": null,
   "id": "125abfa0-6f62-4d66-a9f3-aa50f2e75bfa",
   "metadata": {},
   "outputs": [],
   "source": [
    "base_folder = \"/home/karlos/Documents/workspace/proj/music/trained_models/v0_22_apr26/dea3706f/samples\"\n",
    "samples_per_epoch = 3\n",
    "epochs = list(range(50, 101, 10))\n",
    "epochs"
   ]
  },
  {
   "cell_type": "code",
   "execution_count": null,
   "id": "f3aad49a-4ffd-4fea-8b33-0e496db8a435",
   "metadata": {},
   "outputs": [],
   "source": [
    "files = []\n",
    "for e in epochs:\n",
    "    all_generations = [(e, os.path.join(base_folder, str(e), f)) for f in os.listdir(os.path.join(base_folder, str(e))) if f.endswith('.pt')]\n",
    "    selected_generations = random.sample(all_generations, samples_per_epoch)\n",
    "    files.extend(selected_generations)\n",
    "\n",
    "files"
   ]
  },
  {
   "cell_type": "markdown",
   "id": "234461d1-16d4-4bac-b582-e3eaf69e3867",
   "metadata": {},
   "source": [
    "### Load model"
   ]
  },
  {
   "cell_type": "code",
   "execution_count": null,
   "id": "c65f7c39-1b87-469d-8584-fdfd2e478877",
   "metadata": {},
   "outputs": [],
   "source": [
    "musicgen_model_name = 'facebook/musicgen-small'\n",
    "\n",
    "#Loading Encodec model\n",
    "pkg = loaders.load_compression_model_ckpt(musicgen_model_name)\n",
    "cfg = omegaconf.OmegaConf.create(pkg['xp.cfg'])\n",
    "\n",
    "kwargs = utils.dict_from_config(getattr(cfg, 'encodec'))\n",
    "\n",
    "encoder_name = kwargs.pop('autoencoder')\n",
    "quantizer_name = kwargs.pop('quantizer')\n",
    "\n",
    "encoder, decoder = builders.get_encodec_autoencoder(encoder_name, cfg)\n",
    "quantizer = builders.get_quantizer(quantizer_name, cfg, encoder.dimension)\n",
    "frame_rate = kwargs['sample_rate'] // encoder.hop_length\n",
    "renormalize = kwargs.pop('renormalize', False)\n",
    "kwargs.pop('renorm', None), type(quantizer), frame_rate\n",
    "model = encodec.EncodecModel(encoder, decoder, quantizer,\n",
    "                    frame_rate=frame_rate, renormalize=renormalize, **kwargs)\n",
    "model.load_state_dict(pkg['best_state'])\n",
    "model = model.eval()"
   ]
  },
  {
   "cell_type": "code",
   "execution_count": null,
   "id": "415218ea-f392-4f59-bc92-53f7fd3794f1",
   "metadata": {},
   "outputs": [],
   "source": [
    "for e, file in files:\n",
    "    #reading generation\n",
    "    encoded_generation = torch.load(file)\n",
    "    with open(file[:-3] + '.json') as j:\n",
    "        original_input = json.load(j)['conditioning']['condition']\n",
    "        print(f'Epoch: {e}, Original Input: {original_input}, Filename: {file}')\n",
    "    # decode and listen\n",
    "    melody_waveform_reconstructed = model.decode(encoded_generation.unsqueeze(0), None)\n",
    "    ipd.display(ipd.Audio(melody_waveform_reconstructed[0].detach().numpy(), rate=kwargs['sample_rate']))"
   ]
  },
  {
   "cell_type": "markdown",
   "id": "d7bd60c6-1d0a-4e0e-97a9-1b00c6d8d528",
   "metadata": {},
   "source": []
  }
 ],
 "metadata": {
  "kernelspec": {
   "display_name": "Python 3 (ipykernel)",
   "language": "python",
   "name": "python3"
  },
  "language_info": {
   "codemirror_mode": {
    "name": "ipython",
    "version": 3
   },
   "file_extension": ".py",
   "mimetype": "text/x-python",
   "name": "python",
   "nbconvert_exporter": "python",
   "pygments_lexer": "ipython3",
   "version": "3.10.12"
  }
 },
 "nbformat": 4,
 "nbformat_minor": 5
}
